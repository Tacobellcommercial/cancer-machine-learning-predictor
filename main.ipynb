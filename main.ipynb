{
 "cells": [
  {
   "cell_type": "code",
   "execution_count": 27,
   "metadata": {},
   "outputs": [
    {
     "name": "stdout",
     "output_type": "stream",
     "text": [
      "              precision    recall  f1-score   support\n",
      "\n",
      "           0       0.91      0.94      0.93        66\n",
      "           1       0.96      0.94      0.95       105\n",
      "\n",
      "    accuracy                           0.94       171\n",
      "   macro avg       0.94      0.94      0.94       171\n",
      "weighted avg       0.94      0.94      0.94       171\n",
      "\n"
     ]
    }
   ],
   "source": [
    "import tensorflow\n",
    "import pandas as pd\n",
    "new_model = tensorflow.keras.models.load_model(\"machine_learning_cancer_classifier.keras\")\n",
    "\n",
    "dataframe_to_train = pd.read_csv(\"cancer_classification.csv\")\n",
    "\n",
    "non_correlated_data = ['mean texture',\n",
    " 'mean smoothness',\n",
    " 'mean symmetry',\n",
    " 'mean fractal dimension',\n",
    " 'texture error',\n",
    " 'smoothness error',\n",
    " 'compactness error',\n",
    " 'concavity error',\n",
    " 'concave points error',\n",
    " 'symmetry error',\n",
    " 'fractal dimension error',\n",
    " 'worst texture',\n",
    " 'worst smoothness',\n",
    " 'worst symmetry',\n",
    " 'worst fractal dimension']\n",
    "\n",
    "dataframe_to_train.drop(non_correlated_data, axis=1, inplace=True) #simple cleaning, remove non correlated data \n",
    "\n",
    "\n",
    "from sklearn.model_selection import train_test_split\n",
    "\n",
    "X = dataframe_to_train.drop(\"benign_0__mal_1\", axis=1).values\n",
    "y = dataframe_to_train[\"benign_0__mal_1\"].values\n",
    "\n",
    "X_train, X_test, y_train, y_test = train_test_split(X, y, test_size=0.3, random_state=101) #use same random state as model\n",
    "\n",
    "from sklearn.preprocessing import MinMaxScaler #use same scaler as model\n",
    "\n",
    "scaler = MinMaxScaler()\n",
    "X_train = scaler.fit_transform(X_train)\n",
    "X_test = scaler.transform(X_test)\n",
    "\n",
    "predictions = (new_model.predict(X_test) > 0.5).astype(\"int32\")\n",
    "\n",
    "from sklearn.metrics import classification_report, confusion_matrix\n",
    "\n",
    "print(classification_report(y_true=y_test, y_pred=predictions))"
   ]
  },
  {
   "cell_type": "code",
   "execution_count": null,
   "metadata": {},
   "outputs": [],
   "source": []
  },
  {
   "cell_type": "code",
   "execution_count": null,
   "metadata": {},
   "outputs": [],
   "source": []
  }
 ],
 "metadata": {
  "kernelspec": {
   "display_name": "Python 3",
   "language": "python",
   "name": "python3"
  },
  "language_info": {
   "codemirror_mode": {
    "name": "ipython",
    "version": 3
   },
   "file_extension": ".py",
   "mimetype": "text/x-python",
   "name": "python",
   "nbconvert_exporter": "python",
   "pygments_lexer": "ipython3",
   "version": "3.8.5"
  }
 },
 "nbformat": 4,
 "nbformat_minor": 4
}
